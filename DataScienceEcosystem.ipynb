{
  "metadata": {
    "kernelspec": {
      "name": "xpython",
      "display_name": "Python 3.13 (XPython)",
      "language": "python"
    },
    "language_info": {
      "file_extension": ".py",
      "mimetype": "text/x-python",
      "name": "python",
      "version": "3.13.1"
    }
  },
  "nbformat_minor": 5,
  "nbformat": 4,
  "cells": [
    {
      "id": "4ac05f1d-4ce8-4373-b831-f73b005b8399",
      "cell_type": "markdown",
      "source": "# Tools for Data Science",
      "metadata": {}
    },
    {
      "id": "27850a91-f58b-4fb6-a43d-0d1d69d5a92c",
      "cell_type": "markdown",
      "source": "This notebook will cover tools and concepts commonly used in Data Science.\n",
      "metadata": {}
    },
    {
      "id": "8ea76493-b0e3-43ea-96a5-859df93ee1f0",
      "cell_type": "markdown",
      "source": "Some of the popular languages that Data Scientists use are:\n\n1. Python  \n2. R  \n3. SQL  \n",
      "metadata": {}
    },
    {
      "id": "a2528e2b-768e-40cb-ae0b-b9b7c3b1bd15",
      "cell_type": "markdown",
      "source": "Some of the commonly used libraries in Data Science are:\n\n1. Pandas  \n2. NumPy  \n3. Matplotlib  \n",
      "metadata": {}
    },
    {
      "id": "f789ae71-b106-480a-b9e1-2642372bb13e",
      "cell_type": "markdown",
      "source": "Below is a table showing some open-source tools used in Data Science:\n\n| Tool           | Description                           |\n|----------------|---------------------------------------|\n| Jupyter Notebook | Interactive coding and documentation |\n| RStudio        | IDE for R programming                 |\n| Apache Spark   | Big data processing framework         |\n",
      "metadata": {}
    },
    {
      "id": "6aafe353-afa1-4921-a474-fd50d3e9073d",
      "cell_type": "markdown",
      "source": "Below are some examples of arithmetic expressions in Python.\n",
      "metadata": {}
    },
    {
      "id": "0de58f20-d715-4bd7-a178-9a98fdc435e3",
      "cell_type": "code",
      "source": "num1 = (5 * 4) + 3\nprint(num1)\n",
      "metadata": {
        "trusted": true
      },
      "outputs": [
        {
          "name": "stdout",
          "output_type": "stream",
          "text": "23\n"
        }
      ],
      "execution_count": 14
    },
    {
      "id": "18917680-4957-4fc9-a656-739bbdf2e68c",
      "cell_type": "code",
      "source": "num2 = 200 / 60\nprint(num2)",
      "metadata": {
        "trusted": true
      },
      "outputs": [
        {
          "name": "stdout",
          "output_type": "stream",
          "text": "3.3333333333333335\n"
        }
      ],
      "execution_count": 15
    },
    {
      "id": "43360668-561b-4153-b39e-e306c60dd9f0",
      "cell_type": "markdown",
      "source": "**Objectives:**\n\n- List popular languages for Data Science  \n- Understand Data Science tools and libraries  \n- Perform basic arithmetic operations using code  \n- Use Jupyter Notebooks for documenting code and text  \n",
      "metadata": {}
    },
    {
      "id": "85d8eb9c-b778-4920-93ab-cd9a817b7e42",
      "cell_type": "markdown",
      "source": "**Author:** Saud Ahmad\n",
      "metadata": {}
    }
  ]
}